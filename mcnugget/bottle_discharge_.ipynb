{
 "cells": [
  {
   "cell_type": "markdown",
   "metadata": {},
   "source": [
    "Code to analyze gas temperature in a 2k bottle"
   ]
  },
  {
   "cell_type": "code",
   "execution_count": 14,
   "metadata": {},
   "outputs": [],
   "source": [
    "import matplotlib as plt\n",
    "import numpy as np\n",
    "import scipy\n",
    "from ctREFPROP.ctREFPROP import REFPROPFunctionLibrary\n",
    "import os\n",
    "\n",
    "# https://refprop-docs.readthedocs.io/en/latest/DLL/high_level.html#f/_/REFPROPdll"
   ]
  },
  {
   "cell_type": "code",
   "execution_count": 15,
   "metadata": {},
   "outputs": [
    {
     "name": "stdout",
     "output_type": "stream",
     "text": [
      "288.62073043605136\n"
     ]
    }
   ],
   "source": [
    "def fluid_P_D(fluid, p_pa, density):\n",
    "    \"\"\"\n",
    "    Inputs:\n",
    "        fluid: string of fluid to analyze \n",
    "        p_pa: pressure of the fluid, in Pascals\n",
    "        density: density of the fluid, in kg/m^3\n",
    "    \n",
    "    Output: temperature of the gas\n",
    "    \"\"\"\n",
    "    RP = REFPROPFunctionLibrary(os.environ['RPPREFIX'])\n",
    "    RP.SETPATHdll(os.environ['RPPREFIX'])\n",
    "    MOLAR_BASE_SI = RP.GETENUMdll(0,\"MASS SI\").iEnum\n",
    "    r = RP.REFPROPdll(fluid,\"PD\",\"T\",MOLAR_BASE_SI, 0,0,p_pa/1000000, density, [1.0])\n",
    "    return r.Output[0]\n",
    "\n",
    "def fluid_P_T(fluid, p_pa, temperature):\n",
    "    \"\"\"\n",
    "    Inputs:\n",
    "        fluid: string of fluid to analyze\n",
    "        p_pa: pressure of the fluid, in Pascals\n",
    "        temperature: temperature of the fluid, in Kelvin\n",
    "    \n",
    "    Output: density of the gas\n",
    "    \"\"\"\n",
    "    RP = REFPROPFunctionLibrary(os.environ['RPPREFIX'])\n",
    "    RP.SETPATHdll(os.environ['RPPREFIX'])\n",
    "    MOLAR_BASE_SI = RP.GETENUMdll(0,\"MASS SI\").iEnum\n",
    "    r = RP.REFPROPdll(fluid,\"TP\",\"D\",MOLAR_BASE_SI, 0,0,temperature, p_pa/1000000, [1.0])\n",
    "    return r.Output[0]\n",
    "\n",
    "def convert_psi_to_pa(p_in_psi):\n",
    "    # source: google\n",
    "    return p_in_psi*6894.76\n",
    "\n",
    "# If the RPPREFIX environment variable is not already set by your installer (e.g., on windows), \n",
    "# then uncomment this line and set the absolute path to the location of your install of \n",
    "# REFPROP\n",
    "os.environ['RPPREFIX'] = r'C:\\Program Files (x86)\\REFPROP'\n",
    "\n",
    "# Print the version of REFPROP in use and the NBP\n",
    "out = fluid_P_D(\"NITROGEN\", 101325, 1.183160685)\n",
    "print(out)"
   ]
  },
  {
   "cell_type": "code",
   "execution_count": 16,
   "metadata": {},
   "outputs": [],
   "source": [
    "volume = 0.040\t\t\t\t# cubic meters\n",
    "p_init = 2000\t\t\t\t# psi\n",
    "t_init = 280\t\t\t\t# Kelvin\n",
    "mdot_out = 0.105*1.05 \t\t# kg/s\n",
    "dt = 0.1\t\t\t\t\t# seconds\n",
    "fluid_to_use = \"NITROGEN\"\t# name of fluid to use for simulation"
   ]
  },
  {
   "cell_type": "code",
   "execution_count": 17,
   "metadata": {},
   "outputs": [
    {
     "name": "stdout",
     "output_type": "stream",
     "text": [
      "[6.616024234748961, 6.604999234748961, 6.604999234748961, 6.604999234748961, 6.604999234748961, 6.604999234748961]\n",
      "165.40060586872403\n"
     ]
    }
   ],
   "source": [
    "# find initial density to find mass of gas in bottle\n",
    "p_init_pa = convert_psi_to_pa(p_init)\n",
    "density = fluid_P_T(fluid_to_use, p_init_pa, t_init)\n",
    "mass = [density*volume]\n",
    "gas_temp = t_init\n",
    "i = 0\n",
    "while gas_temp > 233.15:\n",
    "\tmass += [mass[i] - (mdot_out*dt)]\n",
    "\t\n",
    "\n",
    "print(mass)\n"
   ]
  }
 ],
 "metadata": {
  "kernelspec": {
   "display_name": ".venv",
   "language": "python",
   "name": "python3"
  },
  "language_info": {
   "codemirror_mode": {
    "name": "ipython",
    "version": 3
   },
   "file_extension": ".py",
   "mimetype": "text/x-python",
   "name": "python",
   "nbconvert_exporter": "python",
   "pygments_lexer": "ipython3",
   "version": "3.12.5"
  }
 },
 "nbformat": 4,
 "nbformat_minor": 2
}
