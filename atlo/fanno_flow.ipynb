{
 "cells": [
  {
   "cell_type": "code",
   "execution_count": 1,
   "metadata": {},
   "outputs": [],
   "source": [
    "import matplotlib.pyplot as plt\n",
    "import numpy as np\n",
    "from math import *\n",
    "import scipy\n",
    "from ctREFPROP.ctREFPROP import REFPROPFunctionLibrary\n",
    "import os\n",
    "import refprop_functions as refprop\n",
    "import fluid_calcs\n",
    "# https://refprop-docs.readthedocs.io/en/latest/DLL/high_level.html#f/_/REFPROPdll"
   ]
  },
  {
   "cell_type": "code",
   "execution_count": 13,
   "metadata": {},
   "outputs": [
    {
     "name": "stdout",
     "output_type": "stream",
     "text": [
      "74503.77575126667\n",
      "0.1694590614565345\n"
     ]
    }
   ],
   "source": [
    "p_stag = 180\t\t\t\t# psi\n",
    "t_stag = 280\t\t\t\t# Kelvin\n",
    "mdot = 0.105 \t\t# kg/s\n",
    "tube_inner_radii = 0.275/39.3701/2\t\t# -6 tube ID converted to meters and radius\n",
    "tube_id = tube_inner_radii*2\n",
    "area = pi*(tube_inner_radii**2)\n",
    "tube_roughness = 0.000045\t\t\t\t# in m\n",
    "relative_roughness = tube_roughness/(tube_id)\n",
    "fluid_to_use = \"NITROGEN\"\t# name of fluid to use for simulation\n",
    "\n",
    "p_stag = refprop.convert_psi_to_pa(p_stag)\n",
    "\n",
    "gamma = refprop.fluid_gamma_from_P_T(fluid_to_use, p_stag, t_stag)\n",
    "R = refprop.fluid_R_from_P_T(fluid_to_use, p_stag, t_stag)\n",
    "a = sqrt(R*gamma*t_stag)\n",
    "density = refprop.fluid_density_from_P_T(fluid_to_use, p_stag, t_stag)\n",
    "velocity = mdot/(density * area)\n",
    "mach = velocity/a\n",
    "reynolds = refprop.fluid_reynolds_from_P_T(fluid_to_use, p_stag, t_stag, velocity, tube_id)\n",
    "\n",
    "friction_factor = fluid_calcs.find_friction_factor(relative_roughness, reynolds)\n",
    "\n",
    "log_for_l_star = ((gamma + 1) * (mach**2))/(2 + ((gamma - 1) * (mach**2)))\n",
    "\n",
    "L_star = (tube_id/friction_factor) * (((1-(mach**2))/(gamma*(mach**2))) + ((gamma + 1)/(2 * gamma))* np.log(log_for_l_star))\n",
    "print(reynolds)\n",
    "print(L_star)\n"
   ]
  },
  {
   "cell_type": "code",
   "execution_count": null,
   "metadata": {},
   "outputs": [],
   "source": []
  }
 ],
 "metadata": {
  "kernelspec": {
   "display_name": ".venv",
   "language": "python",
   "name": "python3"
  },
  "language_info": {
   "codemirror_mode": {
    "name": "ipython",
    "version": 3
   },
   "file_extension": ".py",
   "mimetype": "text/x-python",
   "name": "python",
   "nbconvert_exporter": "python",
   "pygments_lexer": "ipython3",
   "version": "3.12.5"
  }
 },
 "nbformat": 4,
 "nbformat_minor": 2
}
